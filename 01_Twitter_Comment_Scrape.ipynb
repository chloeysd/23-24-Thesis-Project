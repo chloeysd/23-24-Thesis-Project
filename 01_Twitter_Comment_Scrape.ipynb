{
 "cells": [
  {
   "cell_type": "markdown",
   "id": "d0d0eb95",
   "metadata": {},
   "source": [
    "# 1. Scrape Twitter Comments for Top 10 Luxury Brands\n",
    "\n",
    "Scrape 200-300 Twitter comments for each of the top 10 luxury brands based on 2023 sales, as listed in [this ranking](https://www.statista.com/statistics/1256796/luxury-brands-with-most-followers-on-social-media/). Comments should be from tweets posted in the last seven days.\n",
    "\n",
    "**Brands**: Chanel, Gucci, Dior, Versace, Prada, Ralph Lauren, Tiffany, Louis Vuitton, Cartier, Rolex.\n"
   ]
  },
  {
   "cell_type": "markdown",
   "id": "4586ef90",
   "metadata": {},
   "source": [
    "### @Chanel"
   ]
  },
  {
   "cell_type": "code",
   "execution_count": 48,
   "id": "ccfda032",
   "metadata": {},
   "outputs": [
    {
     "name": "stdout",
     "output_type": "stream",
     "text": [
      "            username                created_at  \\\n",
      "0    honeypeach13964 2024-08-31 04:16:25+00:00   \n",
      "1      stan_nofandom 2024-08-31 03:49:56+00:00   \n",
      "2       AntonioDieho 2024-08-31 02:25:10+00:00   \n",
      "3            TSYNWJ3 2024-08-30 17:57:51+00:00   \n",
      "4       saltestocean 2024-08-30 13:12:47+00:00   \n",
      "..               ...                       ...   \n",
      "209     galerialunar 2024-08-28 00:32:15+00:00   \n",
      "210         ressvide 2024-08-28 00:14:18+00:00   \n",
      "211       loveilable 2024-08-27 23:47:58+00:00   \n",
      "212   imperialroses_ 2024-08-27 23:43:45+00:00   \n",
      "213       heartbra1n 2024-08-27 23:42:50+00:00   \n",
      "\n",
      "                                                  text  \n",
      "0                            @NewJeans_ADOR @CHANEL 好看  \n",
      "1                 @NewJeans_ADOR @CHANEL Perfect face😍  \n",
      "2              @NewJeans_ADOR @CHANEL Minji te amooooo  \n",
      "3    @NewJeans_ADOR @CHANEL the denim short is so c...  \n",
      "4         @gelatlo @NewJeans_ADOR @CHANEL ☹️☹️☹️☹️☹️☹️  \n",
      "..                                                 ...  \n",
      "209  @heartbra1n Demasiado encantadora, el orden y ...  \n",
      "210                   @heartbra1n que preciosa te ves.  \n",
      "211  @heartbra1n DIOS MIO, COMO PUEDES SER TAN HERM...  \n",
      "212                         @heartbra1n Qué bonita. 🫶🏻  \n",
      "213                            https://t.co/hsW3LEW7Qq  \n",
      "\n",
      "[214 rows x 3 columns]\n"
     ]
    }
   ],
   "source": [
    "import tweepy\n",
    "import pandas as pd\n",
    "\n",
    "#my API keys & tokens\n",
    "api_key = \"N6OllC7407RjMyXoJqdpHgSxl\"\n",
    "api_key_secret = \"B0FJny7BdEKERayNLlGuNa55xJ55hdcon24vqM3IXAeT2N3PEI\"\n",
    "bearer_token = \"AAAAAAAAAAAAAAAAAAAAAD2WtQEAAAAA%2BtFM574o1NDjMLj8MsIOgauwfx0%3DLYB3TuATLeXh0SknT41dB2w9cAkJeT3xBrbu9fmoFCebcURmSm\"\n",
    "#initialize the Tweepy client using the bearer token for authentication，ref:https://github.com/tweepy/tweepy/blob/master/examples/API_v2/authentication.py\n",
    "client = tweepy.Client(bearer_token=bearer_token)\n",
    "\n",
    "#the ref for the overall code structure: https://www.youtube.com/watch?v=13ggAZBkyV4\n",
    "#define a function that fetches user replies to a specific tweet given the tweet's ID\n",
    "def fetch_user_replies_to_tweet(client, tweet_id):\n",
    "    #construct the query to search for tweets in the conversation started by the given tweet ID,ref:https://stackoverflow.com/questions/71185874/query-conversation-id-with-tweepy-recent-search-to-obtain-tweet-responses\n",
    "    query = f\"conversation_id:{tweet_id}\"\n",
    "    #use the Tweepy client to search for recent tweets that match the query\n",
    "    response = client.search_recent_tweets(query=query, tweet_fields=[\"created_at\", \"author_id\"], expansions=[\"author_id\"], user_fields=[\"username\"], max_results=100)\n",
    "    #initialize an empty list to store the tweets that will be processed\n",
    "    tweets = []\n",
    "    #check if the response contains tweet data\n",
    "    if response.data is not None:\n",
    "        #create a dictionary that maps user IDs to their corresponding user details from the response\n",
    "        users = {u[\"id\"]: u for u in response.includes.get(\"users\", [])}\n",
    "        #iterate over each tweet in the response data\n",
    "        for tweet in response.data:\n",
    "            #append a dictionary to the tweets list\n",
    "            tweets.append({\"username\": users.get(tweet.author_id).username, \"created_at\": tweet.created_at, \"text\": tweet.text})\n",
    "    #return a DataFrame created from the tweets list. If no tweets are found, return an empty DataFrame\n",
    "    return pd.DataFrame(tweets) if tweets else pd.DataFrame()  \n",
    "\n",
    "#define a function to fetch replies for multiple tweets given a list of tweet IDs\n",
    "def fetch_all_replies_from_tweets(client, tweet_ids):\n",
    "    #initialize an empty DataFrame to store all the replies\n",
    "    all_replies = pd.DataFrame()\n",
    "    #iterate over each tweet ID in the provided list of tweet IDs\n",
    "    for tweet_id in tweet_ids:\n",
    "        #for each tweet ID, call the fetch_user_replies_to_tweet function to get the replies associated with that tweet\n",
    "        replies_df = fetch_user_replies_to_tweet(client, tweet_id)\n",
    "        #if replies_df is not empty, concatenate it to the all_replies DataFrame, otherwise keep all_replies unchanged\n",
    "        all_replies = pd.concat([all_replies, replies_df], ignore_index=True) if not replies_df.empty else all_replies\n",
    "    return all_replies\n",
    "\n",
    "tweet_ids = [\"1828734277824962568\",\"1827066455260799295\",\"1828847008452403684\",\"1829753483513282663\",\"1829227720238346696\",\"1829562736671645941\",\"1828838502915776610\",\"1829581842447810628\",\"1827696625659289771\",\"1826668541548134427\",\"1829141151355679215\",\"1827960325981049085\",\"1828422462758928724\",\"1826567090754769128\",\"1829693390536991047\",\"1829109677847703985\",\"1828828347872481734\",\"1828820358889378228\",\"1828578789544407084\"]\n",
    "all_replies_df = fetch_all_replies_from_tweets(client, tweet_ids)\n",
    "print(all_replies_df)\n",
    "all_replies_df.to_csv(\"data/1_chanel_comment.csv\", index=False)"
   ]
  },
  {
   "cell_type": "markdown",
   "id": "9c2042b4",
   "metadata": {},
   "source": [
    "### @Gucci"
   ]
  },
  {
   "cell_type": "code",
   "execution_count": 11,
   "id": "5afd7d01",
   "metadata": {},
   "outputs": [
    {
     "name": "stdout",
     "output_type": "stream",
     "text": [
      "            username                created_at  \\\n",
      "0          kaluiysky 2024-08-31 01:24:16+00:00   \n",
      "1           sstacie_ 2024-08-31 00:44:51+00:00   \n",
      "2            ABixx42 2024-08-30 23:12:16+00:00   \n",
      "3       mua_nibedita 2024-08-30 21:01:29+00:00   \n",
      "4    TommyChapm89958 2024-08-30 20:49:09+00:00   \n",
      "..               ...                       ...   \n",
      "265    Thida02901690 2024-08-24 15:16:24+00:00   \n",
      "266    Thida02901690 2024-08-24 15:16:16+00:00   \n",
      "267      nonglek1128 2024-08-24 11:30:36+00:00   \n",
      "268        hnhn91110 2024-08-24 10:35:55+00:00   \n",
      "269    Anali27061802 2024-08-24 10:25:10+00:00   \n",
      "\n",
      "                                                  text  \n",
      "0    @gucci @Billkin_Ent Love Billkin and Gucci vib...  \n",
      "1    @gucci @Billkin_Ent #Bbillkin #Gucci \\n#Esquir...  \n",
      "2                @gucci @sccardd @Billkin_Ent หล่อสุดๆ  \n",
      "3    @gucci @Billkin_Ent Oh wow, That menswear coll...  \n",
      "4    @gucci @Billkin_Ent The temperature is droppin...  \n",
      "..                                                 ...  \n",
      "265  @gucci @Gupitae88 @gulfkanawut https://t.co/Hm...  \n",
      "266  @gucci @Gupitae88 @gulfkanawut https://t.co/ET...  \n",
      "267                           @gucci @gulfkanawut ❤️❤️  \n",
      "268  @gucci @gulfkanawut Thank you so much❤️\\n\\n#Gu...  \n",
      "269  @gucci @gulfkanawut @gulfkanawut Brand Ambassa...  \n",
      "\n",
      "[270 rows x 3 columns]\n"
     ]
    }
   ],
   "source": [
    "tweet_ids = [\"1829407727443185677\", \"1829115954334220324\", \"1826967762725679515\", \"1821939772522426659\", \"1826605338067423519\"]\n",
    "all_replies_df = fetch_all_replies_from_tweets(client, tweet_ids)\n",
    "print(all_replies_df)\n",
    "all_replies_df.to_csv(\"data/2_gucci_comment.csv\", index=False)"
   ]
  },
  {
   "cell_type": "markdown",
   "id": "59306cc7",
   "metadata": {},
   "source": [
    "### @Dior"
   ]
  },
  {
   "cell_type": "code",
   "execution_count": 24,
   "id": "f25ccd4f",
   "metadata": {},
   "outputs": [
    {
     "name": "stdout",
     "output_type": "stream",
     "text": [
      "           username                created_at  \\\n",
      "0          mag68855 2024-08-26 00:11:14+00:00   \n",
      "1       jladycurrie 2024-08-25 23:40:53+00:00   \n",
      "2           JDRises 2024-08-25 21:29:28+00:00   \n",
      "3           JDRises 2024-08-25 21:26:17+00:00   \n",
      "4      CirceContact 2024-08-25 20:09:14+00:00   \n",
      "..              ...                       ...   \n",
      "240    Toni_Island_ 2024-08-30 18:27:19+00:00   \n",
      "241    icegt2270426 2024-08-30 14:53:28+00:00   \n",
      "242   AidanBrisenyo 2024-08-30 14:19:05+00:00   \n",
      "243  TCOBeautyIsArt 2024-08-30 13:01:48+00:00   \n",
      "244        JerohnMc 2024-08-30 08:09:39+00:00   \n",
      "\n",
      "                                                  text  \n",
      "0                                            @Dior فيل  \n",
      "1                                  @Dior Looks amazing  \n",
      "2    @TriniOceanSpeed @Dior #ThankYouDior \\n#Johnny...  \n",
      "3    @kevin_la44 @Dior #ThankYouDior \\n#JohnnyDeppI...  \n",
      "4                            @Dior Smell like an eagle  \n",
      "..                                                 ...  \n",
      "240                                            @Dior 🙂  \n",
      "241  @Dior We are so Exited to Announce that on our...  \n",
      "242  @Dior She took off the wrong glove her hand ta...  \n",
      "243  @Dior My dream is for you to FIRE THE RAPIST. ...  \n",
      "244            @Dior 🔥#Beastie https://t.co/qUreFZVU5l  \n",
      "\n",
      "[245 rows x 3 columns]\n"
     ]
    }
   ],
   "source": [
    "tweet_ids = [\"1827376571449020889\",\"1828056504672411819\",\"1828775528452833546\",\"1828810017564475612\",\"1828855315720519955\",\"1829074032458678680\",\"1828734293952069915\",\"1828704070615339172\",\"1829126857679155270\",\"1829149580564541703\",\"1829194631168315891\",\"1829428853841821816\"]\n",
    "all_replies_df = fetch_all_replies_from_tweets(client, tweet_ids)\n",
    "print(all_replies_df)\n",
    "all_replies_df.to_csv(\"data/3_dior_comment.csv\", index=False)"
   ]
  },
  {
   "cell_type": "markdown",
   "id": "a5d3847d",
   "metadata": {},
   "source": [
    "### @Versace"
   ]
  },
  {
   "cell_type": "code",
   "execution_count": 25,
   "id": "4723e9fd",
   "metadata": {},
   "outputs": [
    {
     "name": "stdout",
     "output_type": "stream",
     "text": [
      "            username                created_at  \\\n",
      "0          YIZHUO_ID 2024-08-31 09:29:35+00:00   \n",
      "1        GREGORYTAIL 2024-08-31 05:14:55+00:00   \n",
      "2    yizhuoningning_ 2024-08-31 02:53:44+00:00   \n",
      "3      Voyer74421122 2024-08-31 01:18:09+00:00   \n",
      "4            forKLAV 2024-08-31 00:04:44+00:00   \n",
      "..               ...                       ...   \n",
      "208       turtlewinz 2024-08-29 10:38:02+00:00   \n",
      "209         toz_0303 2024-08-29 10:37:24+00:00   \n",
      "210       jsytes0339 2024-08-29 10:33:51+00:00   \n",
      "211       myneviexol 2024-08-29 10:29:37+00:00   \n",
      "212     Mira28209725 2024-08-28 11:34:26+00:00   \n",
      "\n",
      "                                                  text  \n",
      "0    @Versace WE LOVE YOU VERSACE \\n\\n#NINGNINGxVer...  \n",
      "1                                @Versace Very nice! 😍  \n",
      "2    @Versace NINGNING FOR VERSACE KLEIO\\n#NINGNING...  \n",
      "3    @Versace NINGNING FOR VERSACE KLEIO\\n#NINGNING...  \n",
      "4                                          @Versace 🥰🥰  \n",
      "..                                                 ...  \n",
      "208                            @Versace I want the bag  \n",
      "209                                     @Versace NING😘  \n",
      "210  @Versace StunNing❤️‍🔥❤️‍🔥\\n\\nNINGNING FOR VERS...  \n",
      "211                            @Versace pretty ningie!  \n",
      "212                                       @Versace Bft  \n",
      "\n",
      "[213 rows x 3 columns]\n"
     ]
    }
   ],
   "source": [
    "tweet_ids = [\"1820474908326961631\",\"1829534557319966792\",\"1819387707623186791\",\"1820671141243162674\",\"1823902468045943023\",\"1829806338266054676\",\"1825925803059630447\",\"1829081578061832306\",\"1827012945777143915\"]\n",
    "all_replies_df = fetch_all_replies_from_tweets(client, tweet_ids)\n",
    "print(all_replies_df)\n",
    "all_replies_df.to_csv(\"data/4_versace_comment.csv\", index=False)"
   ]
  },
  {
   "cell_type": "markdown",
   "id": "eecaca39",
   "metadata": {},
   "source": [
    "### @Prada"
   ]
  },
  {
   "cell_type": "code",
   "execution_count": 54,
   "id": "7559fb41",
   "metadata": {},
   "outputs": [
    {
     "name": "stdout",
     "output_type": "stream",
     "text": [
      "            username                created_at  \\\n",
      "0          Nieka1123 2024-08-28 14:11:38+00:00   \n",
      "1         sarister12 2024-08-28 10:52:49+00:00   \n",
      "2       FeriPradanaa 2024-08-26 14:32:02+00:00   \n",
      "3            iiamYYO 2024-08-24 18:41:18+00:00   \n",
      "4          taydoro13 2024-08-31 09:12:26+00:00   \n",
      "..               ...                       ...   \n",
      "252        Epily_krn 2024-08-28 07:53:20+00:00   \n",
      "253  mrduckie0311113 2024-08-28 07:52:28+00:00   \n",
      "254   foaestheticsdl 2024-08-28 07:52:12+00:00   \n",
      "255      Yumeowmeows 2024-08-28 07:52:02+00:00   \n",
      "256       lovedarcys 2024-08-28 07:51:32+00:00   \n",
      "\n",
      "                                                  text  \n",
      "0                                @Prada @B206_P Karina  \n",
      "1                            @Prada Prada siblings ☺️🫶  \n",
      "2    @Prada cek berita lee min ho mendadak tranding...  \n",
      "3                                      @Prada jaehyun💚  \n",
      "4               @Prada @aespa_official Congratulations  \n",
      "..                                                 ...  \n",
      "252  @katarinakive @Prada @aespa_official ye\\n\\nKAR...  \n",
      "253  @katarinakive @BelieveInYu0 @Prada @aespa_offi...  \n",
      "254  @katarinakive @Prada @aespa_official yess\\n\\nK...  \n",
      "255  @katarinakive @Prada @aespa_official KARINA PR...  \n",
      "256  @katarinakive @Prada @aespa_official Yessss of...  \n",
      "\n",
      "[257 rows x 3 columns]\n"
     ]
    }
   ],
   "source": [
    "tweet_ids = [\"1826532850314711376\",\"1828749493040234525\",\"1829564766479667357\",\"1827405527527092241\",\"1826650553637589026\",\"1825956046273237255\",\"1825593638312677637\",\"1825442585717969267\",\"1821456376033411461\",\"1820131357613576420\",\"1819644401666195540\",\"1829564766479667357\",\"1827617031929131480\",\"1827767909340393863\",\"1829518445634859032\",\"1827443681827418534\",\"1827944817156141204\",\"1827005607372636616\",\"1705477138541908016\",\"1829022347103481988\",\"1828741101597204549\",\"1828706741619454429\",\"1828701379826974845\"]\n",
    "all_replies_df = fetch_all_replies_from_tweets(client, tweet_ids)\n",
    "print(all_replies_df)\n",
    "all_replies_df.to_csv(\"data/5_prada_comment.csv\", index=False)"
   ]
  },
  {
   "cell_type": "markdown",
   "id": "7ebe9303",
   "metadata": {},
   "source": [
    "### @Ralph Lauren"
   ]
  },
  {
   "cell_type": "code",
   "execution_count": 62,
   "id": "befab47e",
   "metadata": {},
   "outputs": [
    {
     "name": "stdout",
     "output_type": "stream",
     "text": [
      "            username                created_at  \\\n",
      "0       IwonaBuczek2 2024-08-31 04:21:21+00:00   \n",
      "1      vincenzodraws 2024-08-30 16:50:07+00:00   \n",
      "2      dhnma92381245 2024-08-31 12:01:11+00:00   \n",
      "3          TheMagMoe 2024-08-31 11:59:32+00:00   \n",
      "4     Cfellathegreat 2024-08-31 11:32:06+00:00   \n",
      "..               ...                       ...   \n",
      "196      queenkacvlt 2024-08-30 12:23:18+00:00   \n",
      "197       huesputn1k 2024-08-30 11:59:44+00:00   \n",
      "198        Narix_opl 2024-08-28 11:46:17+00:00   \n",
      "199    RosalineLOAss 2024-08-25 12:31:56+00:00   \n",
      "200  kirkman_li90552 2024-08-28 16:06:31+00:00   \n",
      "\n",
      "                                                  text  \n",
      "0                     @RalphLauren @poloralphlauren ok  \n",
      "1    @RalphLauren @poloralphlauren did you forget a...  \n",
      "2    @TheMagMoe @RalphLauren @usopen Those are like...  \n",
      "3                              @RalphLauren @usopen 😻😻  \n",
      "4                          @RalphLauren @usopen Ralph.  \n",
      "..                                                 ...  \n",
      "196          @MIDCYS @ITZYofficial They wrote Rhujin 😭  \n",
      "197                        @MIDCYS @ITZYofficial OMGGG  \n",
      "198           @Outfit_Luxy پاییز عزیزم لطفا زودتررررر😩  \n",
      "199                            @Outfit_Luxy Simplicity  \n",
      "200                   @Fashionista_com Love this post!  \n",
      "\n",
      "[201 rows x 3 columns]\n"
     ]
    }
   ],
   "source": [
    "tweet_ids = [\"1825569068679925833\",\"1829561527277408528\",\"1829662395423461376\",\"1825898823249530908\",\"1829690049950007789\",\"1829276039669076116\",\"1828888026610643180\",\"1828884608605200480\",\"1828867395366035848\",\"1828053531980407258\",\"1829291821090115593\",\"1829546087977488659\",\"1829662395423461376\",\"1827039302011826674\",\"1828053531980407258\",\"1829488037036003334\",\"1826929091267740055\",\"1826458757762596888\",\"1828797480919568854\",\"1826691940500541929\",\"1826983259802096005\"]\n",
    "all_replies_df = fetch_all_replies_from_tweets(client, tweet_ids)\n",
    "print(all_replies_df)\n",
    "all_replies_df.to_csv(\"data/6_ralph_lauren_comment.csv\", index=False)"
   ]
  },
  {
   "cell_type": "markdown",
   "id": "6a0d1847",
   "metadata": {},
   "source": [
    "### @Tiffany"
   ]
  },
  {
   "cell_type": "code",
   "execution_count": 69,
   "id": "0abf0b4f",
   "metadata": {},
   "outputs": [
    {
     "name": "stdout",
     "output_type": "stream",
     "text": [
      "            username                created_at  \\\n",
      "0          ELIAASS40 2024-08-30 19:06:42+00:00   \n",
      "1           crmennn2 2024-08-30 19:04:18+00:00   \n",
      "2      SASHENKA_BOSS 2024-08-30 14:39:47+00:00   \n",
      "3    niannia48739520 2024-08-30 12:33:02+00:00   \n",
      "4       LapisLuzi369 2024-08-30 07:26:15+00:00   \n",
      "..               ...                       ...   \n",
      "198        ghoste911 2024-08-27 16:04:20+00:00   \n",
      "199          Hh1981n 2024-08-27 16:00:00+00:00   \n",
      "200           s_u_n8 2024-08-27 15:50:45+00:00   \n",
      "201           s_u_n8 2024-08-27 15:50:26+00:00   \n",
      "202      _notebook_l 2024-08-27 15:31:57+00:00   \n",
      "\n",
      "                                                  text  \n",
      "0    @NananAjramNews @NancyAjram @TiffanyAndCo جوهر...  \n",
      "1        @NananAjramNews @NancyAjram @TiffanyAndCo 💌💌💎  \n",
      "2                @TiffanyAndCo https://t.co/fm47V389Ra  \n",
      "3                                    @TiffanyAndCo 鸽子蛋  \n",
      "4    @TiffanyAndCo एलेन् मस्क् अहं राज्ञी प्रति ओवर...  \n",
      "..                                                 ...  \n",
      "198              @F4shionall ذا سعره ولا رقمه في شي ان  \n",
      "199                         @F4shionall جميل قليل بحقه  \n",
      "200        @_notebook_l @F4shionall دعاء ليبا من ليبيا  \n",
      "201  @F4shionall اعتقد السعر لما فكرو فيه خربطو بال...  \n",
      "202                     @F4shionall مين اللي لابسته ؟؟  \n",
      "\n",
      "[203 rows x 3 columns]\n"
     ]
    }
   ],
   "source": [
    "tweet_ids = [\"1829593356437160431\",\"1826259335371952496\",\"1826667130286166131\",\"1829203793445114155\",\"1828796067959251198\",\"1828524348656750662\",\"1828192993607659846\",\"1827399608361693596\",\"1827044451107086779\",\"1825943607955583271\",\"1825579886779515346\",\"1824809842462097471\",\"1824447414150787336\",\"1827769344530538686\",\"1827897970165235875\",\"1701878054107353497\",\"1828187731161215109\",\"1829528712288841905\",\"1829448633843937336\",\"1828155049601835096\",\"1827392363007754445\",\"1828394564505239782\",\"1826050353319535097\",\"1778996602906034407\"]\n",
    "all_replies_df = fetch_all_replies_from_tweets(client, tweet_ids)\n",
    "print(all_replies_df)\n",
    "all_replies_df.to_csv(\"data/7_tiffany_comment.csv\", index=False)"
   ]
  },
  {
   "cell_type": "markdown",
   "id": "7f7e0f42",
   "metadata": {},
   "source": [
    "### @Louis Vuitton"
   ]
  },
  {
   "cell_type": "code",
   "execution_count": 63,
   "id": "b0e17c6a",
   "metadata": {},
   "outputs": [
    {
     "name": "stdout",
     "output_type": "stream",
     "text": [
      "            username                created_at  \\\n",
      "0        CaiZhe82848 2024-08-31 09:43:56+00:00   \n",
      "1        CaiZhe82848 2024-08-31 09:36:37+00:00   \n",
      "2           sachn420 2024-08-30 23:45:14+00:00   \n",
      "3    MillennialEdit1 2024-08-30 20:22:43+00:00   \n",
      "4        MilleRostik 2024-08-31 12:44:41+00:00   \n",
      "..               ...                       ...   \n",
      "247    bggrandmaster 2024-08-29 07:24:08+00:00   \n",
      "248     WillyBobWard 2024-08-29 01:56:57+00:00   \n",
      "249  MordechayAriely 2024-08-28 16:20:40+00:00   \n",
      "250  MordechayAriely 2024-08-28 16:20:06+00:00   \n",
      "251     LouisVuitton 2024-08-28 16:02:00+00:00   \n",
      "\n",
      "                                                  text  \n",
      "0    @LouisVuitton You can come to Taiwan  and  mee...  \n",
      "1    @LouisVuitton Dear brother. I come from Taiwan...  \n",
      "2                                  @LouisVuitton Life.  \n",
      "3    @LouisVuitton Is this true? https://t.co/7veUp...  \n",
      "4                @LouisVuitton https://t.co/AWGVuPxZld  \n",
      "..                                                 ...  \n",
      "247  @LouisVuitton @LouisVuitton @Pharrell can we m...  \n",
      "248              @LouisVuitton https://t.co/ZKmQK8H6DR  \n",
      "249  @LouisVuitton Who invented the paralympic game...  \n",
      "250  @LouisVuitton What is the worst event in the O...  \n",
      "251  Créées spécialement pour accueillir les médail...  \n",
      "\n",
      "[252 rows x 3 columns]\n"
     ]
    }
   ],
   "source": [
    "tweet_ids = [\"1829534541960069202\",\"1829519443589767325\",\"1829474691066773524\",\"1829459045700210728\",\"1829126855825236039\",\"1829071244194394391\",\"1828825367336878353\",\"1828780327742951745\",\"1828386166514581814\",\"1828365558498070747\",\"1829459045700210728\",\"1828780327742951745\",\"1829126855825236039\",\"1829413746076160340\",\"1828734778842943660\",\"1828365558498070747\",\"1828825367336878353\",\"1828365602165043354\"]\n",
    "all_replies_df = fetch_all_replies_from_tweets(client, tweet_ids)\n",
    "print(all_replies_df)\n",
    "all_replies_df.to_csv(\"data/8_louis_vuitton_comment.csv\", index=False)"
   ]
  },
  {
   "cell_type": "markdown",
   "id": "905547c2",
   "metadata": {},
   "source": [
    "### @Cartier"
   ]
  },
  {
   "cell_type": "code",
   "execution_count": 68,
   "id": "8caddb3a",
   "metadata": {},
   "outputs": [
    {
     "name": "stdout",
     "output_type": "stream",
     "text": [
      "          username                created_at  \\\n",
      "0    Riannonyu_pu_ 2024-08-30 08:40:40+00:00   \n",
      "1     IAMGOLDEN_21 2024-08-29 16:01:45+00:00   \n",
      "2          beys777 2024-08-29 13:40:03+00:00   \n",
      "3         assreina 2024-08-29 13:04:13+00:00   \n",
      "4     alenziii_111 2024-08-29 05:27:29+00:00   \n",
      "..             ...                       ...   \n",
      "240      mali_sa13 2024-08-25 10:11:34+00:00   \n",
      "241        1821_si 2024-08-25 10:11:21+00:00   \n",
      "242         NYi215 2024-08-25 10:11:17+00:00   \n",
      "243     NongCandle 2024-08-25 10:11:00+00:00   \n",
      "244      metottott 2024-08-25 10:09:51+00:00   \n",
      "\n",
      "                                                  text  \n",
      "0    @Outfit_Luxy Oh, a Cartier ring!  That's a bea...  \n",
      "1                                  @Outfit_Luxy MINE 😍  \n",
      "2            @assreina @Outfit_Luxy Kkdmdkdkkdkdkddkdk  \n",
      "3                                @Outfit_Luxy askim bu  \n",
      "4                                 @Outfit_Luxy يموت 🖤🔥  \n",
      "..                                                 ...  \n",
      "240  @ElleMenThailand @tawattannn เท่มากกก โฟ้ดกับC...  \n",
      "241  @ElleMenThailand @tawattannn Very handsome \\n\\...  \n",
      "242  @ElleMenThailand @tawattannn So stunning \\n\\n#...  \n",
      "243  @ElleMenThailand @tawattannn ❤️❤️❤️❤️❤️\\n\\n#EL...  \n",
      "244  @ElleMenThailand @tawattannn หล่อมากครับบบบ\\n\\...  \n",
      "\n",
      "[245 rows x 3 columns]\n"
     ]
    }
   ],
   "source": [
    "tweet_ids = [\"1828829537414873174\",\"1829237943741100393\",\"1827344633090994668\",\"1829202093909127551\",\"1828372555427631337\",\"1827753844731699469\",\"1827265270747935057\",\"1826366168380158272\",\"1827707640304046553\",\"1829107925530337638\",\"1827649303600664618\"]\n",
    "all_replies_df = fetch_all_replies_from_tweets(client, tweet_ids)\n",
    "print(all_replies_df)\n",
    "all_replies_df.to_csv(\"data/9_cartier_comment.csv\", index=False)"
   ]
  },
  {
   "cell_type": "markdown",
   "id": "6d95c81e",
   "metadata": {},
   "source": [
    "### @Rolex"
   ]
  },
  {
   "cell_type": "code",
   "execution_count": 46,
   "id": "63843204",
   "metadata": {},
   "outputs": [
    {
     "name": "stdout",
     "output_type": "stream",
     "text": [
      "            username                created_at  \\\n",
      "0           LilTPain 2024-08-28 08:08:19+00:00   \n",
      "1            orkuncg 2024-08-27 21:28:11+00:00   \n",
      "2           keidane_ 2024-08-27 19:34:21+00:00   \n",
      "3    TheOrac06012315 2024-08-27 18:25:05+00:00   \n",
      "4     CigarsRUsCzech 2024-08-27 17:18:00+00:00   \n",
      "..               ...                       ...   \n",
      "231    nicolasbedney 2024-08-24 15:38:30+00:00   \n",
      "232       jnxn196775 2024-08-24 13:18:18+00:00   \n",
      "233        cryptoby_ 2024-08-25 08:44:11+00:00   \n",
      "234    Rolexsupport1 2024-08-25 00:59:06+00:00   \n",
      "235    Rolexsupport1 2024-08-25 00:55:53+00:00   \n",
      "\n",
      "                                                  text  \n",
      "0                                  @TheWatchB Nautilus  \n",
      "1                                      @TheWatchB blue  \n",
      "2                                       @TheWatchB Red  \n",
      "3                                      @TheWatchB Blue  \n",
      "4                             @TheWatchB Red for sure.  \n",
      "..                                                 ...  \n",
      "231  @KarSocialMedia @ROLEX this #XTwitter is more ...  \n",
      "232                                    @ROLEX qinwen☺️  \n",
      "233  @ROLEX I’m planning on adding a Rolex to my Ro...  \n",
      "234  @sarinfuhrer We're truly sorry to hear about y...  \n",
      "235  @izmir35_KSK_KSK We're truly sorry to hear abo...  \n",
      "\n",
      "[236 rows x 3 columns]\n"
     ]
    }
   ],
   "source": [
    "tweet_ids = [\"1828176774984855781\",\"1827284819320959319\",\"1829610040606748989\",\"1827323951330291928\",\"1829752991160639855\",\"1829471928781832452\",\"1829413797317988465\",\"1829179717699748255\",\"1829066496565239831\",\"1828704101418373547\",\"1828062379491344839\",\"1827807792750535117\",\"1826997903044309390\",\"1826559982399004994\",\"1825895636723503252\",\"1825312584578576453\"]\n",
    "all_replies_df = fetch_all_replies_from_tweets(client, tweet_ids)\n",
    "print(all_replies_df)\n",
    "all_replies_df.to_csv(\"data/10_rolex_comment.csv\", index=False)"
   ]
  },
  {
   "cell_type": "markdown",
   "id": "66f34560",
   "metadata": {},
   "source": [
    "# 2. Merge 10 Brand Datasets into One Large DataFrame\n",
    "\n",
    "Merge the datasets of 10 brands into a single large DataFrame, comprising a total of 2336 rows. The columns should include: `brand`, `username`, `created_at`, `text`.\n"
   ]
  },
  {
   "cell_type": "code",
   "execution_count": 1,
   "id": "179f34a1",
   "metadata": {},
   "outputs": [
    {
     "name": "stdout",
     "output_type": "stream",
     "text": [
      "Index(['brand', 'username', 'created_at', 'text'], dtype='object') (2336, 4)\n"
     ]
    }
   ],
   "source": [
    "import pandas as pd\n",
    "\n",
    "df1 = pd.read_csv('data/1_chanel_comment.csv')\n",
    "df2 = pd.read_csv('data/2_gucci_comment.csv')\n",
    "df3 = pd.read_csv('data/3_dior_comment.csv')\n",
    "df4 = pd.read_csv('data/4_versace_comment.csv')\n",
    "df5 = pd.read_csv('data/5_prada_comment.csv')\n",
    "df6 = pd.read_csv('data/6_ralph_lauren_comment.csv')\n",
    "df7 = pd.read_csv('data/7_tiffany_comment.csv')\n",
    "df8 = pd.read_csv('data/8_louis_vuitton_comment.csv')\n",
    "df9 = pd.read_csv('data/9_cartier_comment.csv')\n",
    "df10 = pd.read_csv('data/10_rolex_comment.csv')\n",
    "\n",
    "df1['brand'] = 'Chanel'\n",
    "df2['brand'] = 'Gucci'\n",
    "df3['brand'] = 'Dior'\n",
    "df4['brand'] = 'Versace'\n",
    "df5['brand'] = 'Prada'\n",
    "df6['brand'] = 'Ralph Lauren'\n",
    "df7['brand'] = 'Tiffany'\n",
    "df8['brand'] = 'Louis Vuitton'\n",
    "df9['brand'] = 'Cartier'\n",
    "df10['brand'] = 'Rolex'\n",
    "\n",
    "df1 = df1[['brand'] + [col for col in df1.columns if col != 'brand']]\n",
    "df2 = df2[['brand'] + [col for col in df2.columns if col != 'brand']]\n",
    "df3 = df3[['brand'] + [col for col in df3.columns if col != 'brand']]\n",
    "df4 = df4[['brand'] + [col for col in df4.columns if col != 'brand']]\n",
    "df5 = df5[['brand'] + [col for col in df5.columns if col != 'brand']]\n",
    "df6 = df6[['brand'] + [col for col in df6.columns if col != 'brand']]\n",
    "df7 = df7[['brand'] + [col for col in df7.columns if col != 'brand']]\n",
    "df8 = df8[['brand'] + [col for col in df8.columns if col != 'brand']]\n",
    "df9 = df9[['brand'] + [col for col in df9.columns if col != 'brand']]\n",
    "df10 = df10[['brand'] + [col for col in df10.columns if col != 'brand']]\n",
    "combined_df = pd.concat([df1, df2, df3, df4, df5, df6, df7, df8, df9, df10], ignore_index=True)\n",
    "combined_df.to_csv('data/combined_comment.csv', index=False)\n",
    "print(combined_df.columns, combined_df.shape)"
   ]
  }
 ],
 "metadata": {
  "kernelspec": {
   "display_name": "Python 3 (ipykernel)",
   "language": "python",
   "name": "python3"
  },
  "language_info": {
   "codemirror_mode": {
    "name": "ipython",
    "version": 3
   },
   "file_extension": ".py",
   "mimetype": "text/x-python",
   "name": "python",
   "nbconvert_exporter": "python",
   "pygments_lexer": "ipython3",
   "version": "3.9.18"
  },
  "varInspector": {
   "cols": {
    "lenName": 16,
    "lenType": 16,
    "lenVar": 40
   },
   "kernels_config": {
    "python": {
     "delete_cmd_postfix": "",
     "delete_cmd_prefix": "del ",
     "library": "var_list.py",
     "varRefreshCmd": "print(var_dic_list())"
    },
    "r": {
     "delete_cmd_postfix": ") ",
     "delete_cmd_prefix": "rm(",
     "library": "var_list.r",
     "varRefreshCmd": "cat(var_dic_list()) "
    }
   },
   "types_to_exclude": [
    "module",
    "function",
    "builtin_function_or_method",
    "instance",
    "_Feature"
   ],
   "window_display": false
  }
 },
 "nbformat": 4,
 "nbformat_minor": 5
}
