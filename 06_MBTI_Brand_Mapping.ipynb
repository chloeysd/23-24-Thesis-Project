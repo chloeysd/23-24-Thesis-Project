{
 "cells": [
  {
   "cell_type": "markdown",
   "id": "4aabf24d",
   "metadata": {},
   "source": [
    "# 1. Brand and MBTI Mapping\n",
    "This code analyzes the relationship between brands and MBTI types by vectorizing text data, predicting brand preferences with a logistic regression model, performing sentiment analysis, and visualizing the results with a heatmap."
   ]
  },
  {
   "cell_type": "code",
   "execution_count": 2,
   "id": "6c7b81de",
   "metadata": {},
   "outputs": [
    {
     "name": "stdout",
     "output_type": "stream",
     "text": [
      "MBTI_Final         ENFJ   ENFP      ENTP  ESFJ  ESFP  ESTJ  ESTP      INFJ  \\\n",
      "brand                                                                        \n",
      "Cartier             NaN  0.425  0.600000   NaN   NaN   1.0   NaN  0.242371   \n",
      "Chanel              NaN    NaN       NaN   NaN   NaN   NaN   NaN  0.198602   \n",
      "Dior                NaN  0.300       NaN  0.00   0.0   NaN   0.0  0.086860   \n",
      "Gucci               NaN    NaN  0.766667   NaN   NaN   NaN   NaN  0.202451   \n",
      "Louis Vuitton -0.433333  1.000       NaN   NaN   NaN   NaN   0.0  0.031771   \n",
      "Prada               NaN    NaN       NaN  0.80   0.0   NaN   NaN  0.140051   \n",
      "Ralph Lauren        NaN    NaN       NaN   NaN   0.0   NaN   NaN  0.276616   \n",
      "Rolex               NaN    NaN  0.000000  0.25   0.6   NaN   NaN  0.120985   \n",
      "Tiffany             NaN  0.000       NaN   NaN   0.0   NaN   NaN  0.037500   \n",
      "Versace             NaN  0.250       NaN   NaN   NaN   NaN   NaN  0.212333   \n",
      "\n",
      "MBTI_Final         INFP      INTJ      INTP      ISFJ      ISFP      ISTJ  \\\n",
      "brand                                                                       \n",
      "Cartier        0.228480  0.477214  0.329167  0.000000  0.024151  0.000000   \n",
      "Chanel         0.277434  0.093333  0.300000  0.104545  0.138889  0.000000   \n",
      "Dior           0.270527  0.000000 -0.250000  0.116326  0.100502  0.115278   \n",
      "Gucci          0.361349       NaN  0.502174  0.036091  0.305817  0.000000   \n",
      "Louis Vuitton  0.298822  0.000000  0.375758  0.050000  0.185421       NaN   \n",
      "Prada          0.083175  0.000000  0.535714  0.101786  0.058523  0.400000   \n",
      "Ralph Lauren   0.303579       NaN  0.085000  0.122222  0.097503       NaN   \n",
      "Rolex          0.176447  0.438542  0.042424  0.103146  0.092822  0.183333   \n",
      "Tiffany        0.164829  0.062500  0.133333  0.142857  0.013750  0.000000   \n",
      "Versace        0.099639  0.311111  0.250000  0.112971  0.090000  0.075000   \n",
      "\n",
      "MBTI_Final         ISTP  \n",
      "brand                    \n",
      "Cartier        0.038371  \n",
      "Chanel         0.100000  \n",
      "Dior          -0.015939  \n",
      "Gucci          0.242361  \n",
      "Louis Vuitton  0.088889  \n",
      "Prada          0.077381  \n",
      "Ralph Lauren   0.285000  \n",
      "Rolex          0.122619  \n",
      "Tiffany        0.007692  \n",
      "Versace        0.000000  \n"
     ]
    },
    {
     "data": {
      "image/png": "[encoded data removed]",
      "text/plain": [
       "<Figure size 432x288 with 2 Axes>"
      ]
     },
     "metadata": {
      "needs_background": "light"
     },
     "output_type": "display_data"
    }
   ],
   "source": [
    "import pandas as pd\n",
    "from sklearn.feature_extraction.text import TfidfVectorizer\n",
    "from sklearn.model_selection import train_test_split\n",
    "from sklearn.linear_model import LogisticRegression\n",
    "from textblob import TextBlob\n",
    "import seaborn as sns\n",
    "import matplotlib.pyplot as plt\n",
    "\n",
    "df = pd.read_csv('data/final_dataset.csv')\n",
    "#handle missing values in the 'cleaned_text' column by replacing NaNs with an empty string\n",
    "df['cleaned_text'] = df['cleaned_text'].fillna('')\n",
    "\n",
    "#vectorize the text data using TF-IDF\n",
    "vectorizer = TfidfVectorizer(max_features=1000, stop_words='english')\n",
    "#convert the cleaned text data into a matrix of TF-IDF features for model input\n",
    "X = vectorizer.fit_transform(df['cleaned_text'])\n",
    "\n",
    "#map brand names to numerical labels, ref: https://pandas.pydata.org/pandas-docs/stable/user_guide/categorical.html\n",
    "df['brand_label'] = df['brand'].astype('category').cat.codes\n",
    "\n",
    "#split the dataset into training and testing sets\n",
    "X_train, X_test, y_train, y_test = train_test_split(X, df['brand_label'], test_size=0.2, random_state=42)\n",
    "\n",
    "#train a Logistic Regression model to predict brands\n",
    "model = LogisticRegression()\n",
    "model.fit(X_train, y_train)\n",
    "\n",
    "# make predictions and evaluate the model\n",
    "predictions = model.predict(X_test)\n",
    "\n",
    "# perform sentiment analysis on the cleaned text data\n",
    "df['sentiment'] = df['cleaned_text'].apply(lambda x: TextBlob(x).sentiment.polarity)\n",
    "\n",
    "# create a crosstab of brand preferences by MBTI type with average sentiment, ref: https://pandas.pydata.org/docs/reference/api/pandas.crosstab.html\n",
    "brand_mbti_crosstab = pd.crosstab(df['brand'], df['MBTI_Final'], values=df['sentiment'], aggfunc='mean')\n",
    "print(brand_mbti_crosstab)\n",
    "\n",
    "#visualize the relationship between brands and MBTI types using 'tab20' color map\n",
    "sns.heatmap(brand_mbti_crosstab, cmap='plasma')\n",
    "plt.title('Brand Preference by MBTI Type')\n",
    "plt.show()\n",
    "\n",
    "#create a crosstab of brand preferences by MBTI type\n",
    "brand_mbti_crosstab = pd.crosstab(df['brand'], df['MBTI_Final'])\n",
    "brand_mbti_crosstab.to_csv('data/brand_mbti_mapping.csv')\n"
   ]
  },
  {
   "cell_type": "markdown",
   "id": "89c26208",
   "metadata": {},
   "source": [
    "# 2. Predicting MBTI, Recommending Brands, and Visualizing Sentiment\n",
    "This script predicts the user's MBTI type based on text input, recommends relevant brands, performs sentiment analysis, and visualizes the sentiment as a color."
   ]
  },
  {
   "cell_type": "code",
   "execution_count": 38,
   "id": "df9904ad",
   "metadata": {},
   "outputs": [
    {
     "name": "stdout",
     "output_type": "stream",
     "text": [
      "Predicted MBTI Type: INFP\n",
      "Recommended Brands: Cartier\n",
      "Sentiment Polarity: 0.5, Subjectivity: 0.6\n",
      "Extracted Topics: luxury love high\n"
     ]
    },
    {
     "data": {
      "image/png": "[encoded data removed]",
      "text/plain": [
       "<Figure size 432x288 with 1 Axes>"
      ]
     },
     "metadata": {
      "needs_background": "light"
     },
     "output_type": "display_data"
    }
   ],
   "source": [
    "import joblib\n",
    "import pandas as pd\n",
    "from textblob import TextBlob\n",
    "from sklearn.decomposition import LatentDirichletAllocation\n",
    "from sklearn.feature_extraction.text import CountVectorizer\n",
    "import matplotlib.pyplot as plt\n",
    "import colorsys\n",
    "\n",
    "#load models, vectorizer, and brand mapping data\n",
    "models = {dim: joblib.load(f'saved_models/svc_model_{dim}.pkl') for dim in ['EI', 'NS', 'FT', 'PJ']}\n",
    "vectorizer = joblib.load('saved_models/tfidf_vectorizer.pkl')\n",
    "brand_mbti_mapping = pd.read_csv('data/brand_mbti_mapping.csv')\n",
    "\n",
    "#sentiment analysis function using TextBlob,ref:https://textblob.readthedocs.io/en/dev/\n",
    "def analyze_sentiment(text):\n",
    "    #create a TextBlob object to process the text\n",
    "    blob = TextBlob(text)\n",
    "    #return the polarity and subjectivity scores of the text\n",
    "    return blob.sentiment.polarity, blob.sentiment.subjectivity\n",
    "\n",
    "#topic extraction function using LDA,ref:https://scikit-learn.org/stable/modules/generated/sklearn.feature_extraction.text.CountVectorizer.html\n",
    "def extract_topics(text, n_topics=1, n_words=3):\n",
    "    #create a CountVectorizer for text\n",
    "    count_vectorizer = CountVectorizer(stop_words='english')\n",
    "    #convert input text to a document-term matrix\n",
    "    X_counts = count_vectorizer.fit_transform([text])\n",
    "    #fit the LDA model\n",
    "    lda = LatentDirichletAllocation(n_components=n_topics, random_state=42).fit(X_counts)\n",
    "    #etract the most important words from each topic\n",
    "    return [\" \".join([count_vectorizer.get_feature_names_out()[i] for i in topic.argsort()[:-n_words -1:-1]]) for topic in lda.components_]\n",
    "\n",
    "#brand recommendation function based on MBTI prediction\n",
    "def recommend_brand(user_input, models, vectorizer, brand_mapping):\n",
    "    #vectorize user input text\n",
    "    user_input_vectorized = vectorizer.transform([user_input])\n",
    "    #predict MBTI type using the models for each dimension \n",
    "    predicted_mbti = \"\".join(model.predict(user_input_vectorized)[0] for model in models.values())\n",
    "    #sort brands by relevance to the predicted MBTI type\n",
    "    recommended_brands = brand_mapping[['brand', predicted_mbti]].sort_values(by=predicted_mbti, ascending=False)['brand'].values\n",
    "    return predicted_mbti, recommended_brands\n",
    "\n",
    "#function to map sentiment analysis results to an RGB color\n",
    "def sentiment_to_color(polarity, subjectivity):\n",
    "    #calculate lightness based on polarity\n",
    "    lightness = 0.3 + (polarity + 1) / 2 * 0.4\n",
    "    #calculate saturation based on subjectivity\n",
    "    saturation = 0.3 + subjectivity * 0.7\n",
    "    #convert HLS to RGB, using red hue,ref:# ref: https://docs.python.org/3/library/colorsys.html#colorsys.hls_to_rgb\n",
    "    r, g, b = colorsys.hls_to_rgb(0, lightness, saturation)\n",
    "    return r, g, b\n",
    "\n",
    "#test user input text\n",
    "user_input = \"I love high-end fashion and luxury brands.\"\n",
    "\n",
    "#call functions to get results\n",
    "predicted_mbti, recommended_brands = recommend_brand(user_input, models, vectorizer, brand_mbti_mapping)\n",
    "sentiment_polarity, sentiment_subjectivity = analyze_sentiment(user_input)\n",
    "topics = extract_topics(user_input)\n",
    "\n",
    "print(f\"Predicted MBTI Type: {predicted_mbti}\")\n",
    "print(f\"Recommended Brands: {', '.join(recommended_brands[:1])}\")\n",
    "print(f\"Sentiment Polarity: {sentiment_polarity}, Subjectivity: {sentiment_subjectivity}\")\n",
    "print(f\"Extracted Topics: {', '.join(topics)}\")\n",
    "color = sentiment_to_color(sentiment_polarity, sentiment_subjectivity)\n",
    "plt.imshow([[color]])\n",
    "plt.title(f\"Polarity={sentiment_polarity}, Subjectivity={sentiment_subjectivity}\")\n",
    "plt.axis('off')\n",
    "plt.show()"
   ]
  }
 ],
 "metadata": {
  "kernelspec": {
   "display_name": "Python 3 (ipykernel)",
   "language": "python",
   "name": "python3"
  },
  "language_info": {
   "codemirror_mode": {
    "name": "ipython",
    "version": 3
   },
   "file_extension": ".py",
   "mimetype": "text/x-python",
   "name": "python",
   "nbconvert_exporter": "python",
   "pygments_lexer": "ipython3",
   "version": "3.9.18"
  },
  "varInspector": {
   "cols": {
    "lenName": 16,
    "lenType": 16,
    "lenVar": 40
   },
   "kernels_config": {
    "python": {
     "delete_cmd_postfix": "",
     "delete_cmd_prefix": "del ",
     "library": "var_list.py",
     "varRefreshCmd": "print(var_dic_list())"
    },
    "r": {
     "delete_cmd_postfix": ") ",
     "delete_cmd_prefix": "rm(",
     "library": "var_list.r",
     "varRefreshCmd": "cat(var_dic_list()) "
    }
   },
   "types_to_exclude": [
    "module",
    "function",
    "builtin_function_or_method",
    "instance",
    "_Feature"
   ],
   "window_display": false
  }
 },
 "nbformat": 4,
 "nbformat_minor": 5
}
